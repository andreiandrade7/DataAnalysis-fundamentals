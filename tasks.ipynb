{
 "cells": [
  {
   "cell_type": "markdown",
   "metadata": {},
   "source": [
    "# Fundamental of Data analysis TASKS\n",
    "                    \n"
   ]
  },
  {
   "cell_type": "markdown",
   "metadata": {},
   "source": [
    "## Task 1 - **Collatz conjecture**\n",
    "by Andreia Santos\n",
    "\n",
    "DATE: October, 15th 2023\n",
    "***"
   ]
  },
  {
   "cell_type": "code",
   "execution_count": 1,
   "metadata": {},
   "outputs": [],
   "source": [
    "\n",
    "def f(x):\n",
    "  # Divide by 2 if number is even\n",
    "  if x% 2==0:\n",
    "    return x//2\n",
    "   # Is not even multiply by 3 and add 1\n",
    "  else:\n",
    "    return x*3+1"
   ]
  },
  {
   "cell_type": "code",
   "execution_count": 2,
   "metadata": {},
   "outputs": [],
   "source": [
    "def collatz(x):\n",
    "  print (f'Testing the collatz sequence for the number {x}')\n",
    "  while x!=1:\n",
    "    print (x, end =',')\n",
    "    x=f(x)\n",
    "  print (x)"
   ]
  },
  {
   "cell_type": "code",
   "execution_count": 3,
   "metadata": {},
   "outputs": [
    {
     "name": "stdout",
     "output_type": "stream",
     "text": [
      "Testing the collatz sequence for the number 10000\n",
      "10000,5000,2500,1250,625,1876,938,469,1408,704,352,176,88,44,22,11,34,17,52,26,13,40,20,10,5,16,8,4,2,1\n"
     ]
    }
   ],
   "source": [
    "collatz(10000)"
   ]
  },
  {
   "cell_type": "markdown",
   "metadata": {},
   "source": [
    "*** "
   ]
  },
  {
   "cell_type": "markdown",
   "metadata": {},
   "source": [
    "## Task 2 - **Variables types**\n",
    "by Andreia Santos\n",
    "\n",
    "DATE: November, 12th 2023\n",
    "***"
   ]
  },
  {
   "cell_type": "code",
   "execution_count": 4,
   "metadata": {},
   "outputs": [
    {
     "data": {
      "text/html": [
       "<div>\n",
       "<style scoped>\n",
       "    .dataframe tbody tr th:only-of-type {\n",
       "        vertical-align: middle;\n",
       "    }\n",
       "\n",
       "    .dataframe tbody tr th {\n",
       "        vertical-align: top;\n",
       "    }\n",
       "\n",
       "    .dataframe thead th {\n",
       "        text-align: right;\n",
       "    }\n",
       "</style>\n",
       "<table border=\"1\" class=\"dataframe\">\n",
       "  <thead>\n",
       "    <tr style=\"text-align: right;\">\n",
       "      <th></th>\n",
       "      <th>species</th>\n",
       "      <th>island</th>\n",
       "      <th>bill_length_mm</th>\n",
       "      <th>bill_depth_mm</th>\n",
       "      <th>flipper_length_mm</th>\n",
       "      <th>body_mass_g</th>\n",
       "      <th>sex</th>\n",
       "    </tr>\n",
       "  </thead>\n",
       "  <tbody>\n",
       "    <tr>\n",
       "      <th>0</th>\n",
       "      <td>Adelie</td>\n",
       "      <td>Torgersen</td>\n",
       "      <td>39.1</td>\n",
       "      <td>18.7</td>\n",
       "      <td>181.0</td>\n",
       "      <td>3750.0</td>\n",
       "      <td>MALE</td>\n",
       "    </tr>\n",
       "    <tr>\n",
       "      <th>1</th>\n",
       "      <td>Adelie</td>\n",
       "      <td>Torgersen</td>\n",
       "      <td>39.5</td>\n",
       "      <td>17.4</td>\n",
       "      <td>186.0</td>\n",
       "      <td>3800.0</td>\n",
       "      <td>FEMALE</td>\n",
       "    </tr>\n",
       "    <tr>\n",
       "      <th>2</th>\n",
       "      <td>Adelie</td>\n",
       "      <td>Torgersen</td>\n",
       "      <td>40.3</td>\n",
       "      <td>18.0</td>\n",
       "      <td>195.0</td>\n",
       "      <td>3250.0</td>\n",
       "      <td>FEMALE</td>\n",
       "    </tr>\n",
       "    <tr>\n",
       "      <th>3</th>\n",
       "      <td>Adelie</td>\n",
       "      <td>Torgersen</td>\n",
       "      <td>NaN</td>\n",
       "      <td>NaN</td>\n",
       "      <td>NaN</td>\n",
       "      <td>NaN</td>\n",
       "      <td>NaN</td>\n",
       "    </tr>\n",
       "    <tr>\n",
       "      <th>4</th>\n",
       "      <td>Adelie</td>\n",
       "      <td>Torgersen</td>\n",
       "      <td>36.7</td>\n",
       "      <td>19.3</td>\n",
       "      <td>193.0</td>\n",
       "      <td>3450.0</td>\n",
       "      <td>FEMALE</td>\n",
       "    </tr>\n",
       "  </tbody>\n",
       "</table>\n",
       "</div>"
      ],
      "text/plain": [
       "  species     island  bill_length_mm  bill_depth_mm  flipper_length_mm  \\\n",
       "0  Adelie  Torgersen            39.1           18.7              181.0   \n",
       "1  Adelie  Torgersen            39.5           17.4              186.0   \n",
       "2  Adelie  Torgersen            40.3           18.0              195.0   \n",
       "3  Adelie  Torgersen             NaN            NaN                NaN   \n",
       "4  Adelie  Torgersen            36.7           19.3              193.0   \n",
       "\n",
       "   body_mass_g     sex  \n",
       "0       3750.0    MALE  \n",
       "1       3800.0  FEMALE  \n",
       "2       3250.0  FEMALE  \n",
       "3          NaN     NaN  \n",
       "4       3450.0  FEMALE  "
      ]
     },
     "execution_count": 4,
     "metadata": {},
     "output_type": "execute_result"
    }
   ],
   "source": [
    "import pandas as pd\n",
    "data = pd.read_csv('penguins.csv')\n",
    "data.head() # to display the first 5 lines of loaded data"
   ]
  },
  {
   "cell_type": "markdown",
   "metadata": {},
   "source": [
    "Access the types of variable on the pinguins data set"
   ]
  },
  {
   "cell_type": "code",
   "execution_count": 5,
   "metadata": {},
   "outputs": [
    {
     "data": {
      "text/plain": [
       "species               object\n",
       "island                object\n",
       "bill_length_mm       float64\n",
       "bill_depth_mm        float64\n",
       "flipper_length_mm    float64\n",
       "body_mass_g          float64\n",
       "sex                   object\n",
       "dtype: object"
      ]
     },
     "execution_count": 5,
     "metadata": {},
     "output_type": "execute_result"
    }
   ],
   "source": [
    "data.dtypes"
   ]
  },
  {
   "cell_type": "markdown",
   "metadata": {},
   "source": [
    "Estimate how many different values there is on each type of the variable"
   ]
  },
  {
   "cell_type": "code",
   "execution_count": 6,
   "metadata": {},
   "outputs": [
    {
     "data": {
      "text/plain": [
       "species                3\n",
       "island                 3\n",
       "bill_length_mm       164\n",
       "bill_depth_mm         80\n",
       "flipper_length_mm     55\n",
       "body_mass_g           94\n",
       "sex                    2\n",
       "dtype: int64"
      ]
     },
     "execution_count": 6,
     "metadata": {},
     "output_type": "execute_result"
    }
   ],
   "source": [
    "data.nunique()"
   ]
  },
  {
   "cell_type": "markdown",
   "metadata": {},
   "source": [
    "Specify the unique values withing each variable"
   ]
  },
  {
   "cell_type": "code",
   "execution_count": 7,
   "metadata": {},
   "outputs": [
    {
     "data": {
      "text/plain": [
       "species                                    {Adelie, Gentoo, Chinstrap}\n",
       "island                                      {Dream, Torgersen, Biscoe}\n",
       "bill_length_mm       {49.4, 49.9, 45.7, 50.4, 32.1, 33.1, 33.5, 35....\n",
       "bill_depth_mm        {13.2, 14.1, 15.9, 16.7, 17.4, 18.4, 19.0, 20....\n",
       "flipper_length_mm    {nan, 172.0, 174.0, 176.0, 178.0, 179.0, 180.0...\n",
       "body_mass_g          {3075.0, 4100.0, 3600.0, 4625.0, 5650.0, 3100....\n",
       "sex                                                {FEMALE, nan, MALE}\n",
       "dtype: object"
      ]
     },
     "execution_count": 7,
     "metadata": {},
     "output_type": "execute_result"
    }
   ],
   "source": [
    "pd.Series(list(map(set,data.values.T)),index=data.columns)"
   ]
  },
  {
   "cell_type": "markdown",
   "metadata": {},
   "source": [
    "#### Answer:\n",
    "The penguins data set is a matrix that characterizes 342 pinguins characterized over 7 features: species, island, bill_length, bill_depth, flipper_length, body mass and sex. \n",
    "The different types of features are organized in categorical and numerical variables. \n",
    "\n",
    "The categorical are: species, island and sex. These are categorical variables that represent different population groups: species (3 different types: Adelie', 'Chinstrap', 'Gentoo'), island (3 differnt locations: 'Torgersen', 'Biscoe', 'Dream') and sex (3 different types: female, male or unkonwn).\n",
    "The numerical are: bill_length, bill_depth, flipper_length and body- mass. These are continuos numerical variables measured or either milimeters or grams (body-mass only) which correspond to physical characteristics of the pinguins. \n",
    "\n",
    "Whenever  possible data types should be saved/operated as integer once they consume less memory than float number.However note that not all variable are adequate to be handle as integers types. When there is the need of performing divisions float type should be used despite more memory consuming. \n",
    "The ideal types of variable for this pinguins data set will be dependent on the purpose of the analyse.\n",
    "For example a regresssion analysis can be run between the variable body mass and any other numerical variable (bill_length, bill_depth, flipper_length ) and analyse dependency on the data. Or either classification studies can be run in order to predict the specie type based on al the numerical variables. \n"
   ]
  },
  {
   "cell_type": "markdown",
   "metadata": {},
   "source": [
    "## Task 3 - **Probability distribution**\n",
    "by Andreia Santos\n",
    "\n",
    "DATE: November, 23th 2023\n",
    "***"
   ]
  },
  {
   "cell_type": "markdown",
   "metadata": {},
   "source": [
    "#### Answer:\n",
    "The probability distribution for each variable will be dependent on the type of variable. As already detailed on the previous question no.2 answer, mainly there is two types of variables on the penguins dataset: categorical and continuous. \n",
    "On these continous variables the suggested distribution is a normal distribution. All these variables correspond to observation of natural phenomenas which often respect a normal distribution. One important characteristic of this normal distribution is that values assume a bell shape curve wich is symetrical around a central value.  A statistics analysis can be conducted to each individual variable in order to verify its agreement with a normal distribution. Estimators as average, standart deviation, kurtosis, skewness, median are examples of statistics analysis. The test Kolmogorov-Smirnov (https://docs.scipy.org/doc/scipy/reference/generated/scipy.stats.kstest.html) is a valuable test to analyse if a certain data set follows a given distribution. On a further stage of this task.ipynb document, specifically on question no.5 Kolmogorov-Smirnov test is perform on each individual continuos variable. Only the \"bill_lenght\" may fall on a normal distribution. \n",
    "\n",
    "On the categorical variables two distinct distributions are suggested: multinomial for \"species\" and \"islands\" variables. Both variable have more that on possible output. Each penguin will fall in one of the tree possible options for each of this mentioned variables.However for \"sex\" variable only two outputs are possible, and the suggested distribution is the binominal. \n"
   ]
  },
  {
   "cell_type": "markdown",
   "metadata": {},
   "source": [
    "***"
   ]
  },
  {
   "cell_type": "markdown",
   "metadata": {},
   "source": [
    "## Task 4 - **Probability of fliping a coins**\n",
    "by Andreia Santos\n",
    "\n",
    "DATE: November, 26th 2023\n",
    "***\n",
    "# **To do**"
   ]
  },
  {
   "cell_type": "markdown",
   "metadata": {},
   "source": [
    "***"
   ]
  },
  {
   "cell_type": "markdown",
   "metadata": {},
   "source": [
    "## Task 5 - **Individual Plots**\n",
    "by Andreia Santos\n",
    "\n",
    "DATE: November, 26th 2023\n",
    "***"
   ]
  },
  {
   "cell_type": "markdown",
   "metadata": {},
   "source": [
    "#### Answer:\n"
   ]
  },
  {
   "cell_type": "code",
   "execution_count": 8,
   "metadata": {},
   "outputs": [],
   "source": [
    "# upload needed libraries\n",
    "\n",
    "import matplotlib.pyplot as plt\n",
    "import numpy as np\n",
    "import scipy.special as sps \n",
    "from scipy import stats\n"
   ]
  },
  {
   "cell_type": "code",
   "execution_count": 9,
   "metadata": {},
   "outputs": [],
   "source": [
    "# Prepare the data set - remove the nan\n",
    "\n",
    "data_clean = data.dropna()"
   ]
  },
  {
   "cell_type": "code",
   "execution_count": 10,
   "metadata": {},
   "outputs": [],
   "source": [
    "#This function intend is to evaluate how the data is distributed. The normal distribution proobability density function was fited to the data\n",
    "\n",
    "def conti_variable(variable,color):\n",
    "\n",
    "  # Plot the histogram\n",
    "  plt.hist(x=variable, bins=\"auto\", color=color,alpha=0.9, rwidth=0.6,density=True)\n",
    "\n",
    "\n",
    "  #print(\"the amount in each individual bin is\", n)\n",
    "  #print(\"the bins are located at \", bins)\n",
    "  #print(\"the total no. of bins is:\", patches)\n",
    "\n",
    "\n",
    "  # Fit data to a normal distribution\n",
    "  params = stats.norm.fit(variable)\n",
    "  normal_dist = stats.norm(*params)\n",
    "\n",
    "\n",
    "  # Plot the PDF of the fitted distribution\n",
    "  x = np.linspace(min(variable), max(variable), 100)\n",
    "  plt.plot(x, normal_dist.pdf(x), 'k-', label='Normal PDF')\n",
    "\n",
    "  # Perform a Kolmogorov-Smirnov test\n",
    "  kstest_result = stats.kstest(variable, 'norm', params)\n",
    "\n",
    "  plt.legend()\n",
    "  #plt.show()\n",
    "  print(\"Kolmogorov-Smirnov test result:\", kstest_result)\n",
    "  print(sep='\\n\\n\\n\\n\\n\\n')\n",
    "  print (variable.name)\n",
    "  \n",
    "  if kstest_result.pvalue > 0.05:\n",
    "     print(\"Fail to reject the null hypothesis. Data may follow a normal distribution.\")\n",
    "  else:\n",
    "    print(\"Reject the null hypothesis. Data significantly deviates from a normal distribution.\")\n",
    "    \n",
    "\n",
    "   "
   ]
  },
  {
   "cell_type": "code",
   "execution_count": 11,
   "metadata": {},
   "outputs": [],
   "source": [
    "#This function intend is to evaluate how the data is distributed within the categorical variables\n",
    "\n",
    "def cate_variable(variable, color):\n",
    "  unique_species = variable.unique()\n",
    "  species_counts = variable.value_counts()\n",
    " \n",
    "  species_counts.plot(kind='bar', color=color)\n"
   ]
  },
  {
   "cell_type": "code",
   "execution_count": 12,
   "metadata": {},
   "outputs": [
    {
     "name": "stdout",
     "output_type": "stream",
     "text": [
      "Kolmogorov-Smirnov test result: KstestResult(statistic=0.08011119540955447, pvalue=0.02630859640928984, statistic_location=17.8, statistic_sign=-1)\n",
      "\n",
      "bill_depth_mm\n",
      "Reject the null hypothesis. Data significantly deviates from a normal distribution.\n",
      "Kolmogorov-Smirnov test result: KstestResult(statistic=0.07123428082378663, pvalue=0.06486210857795327, statistic_location=41.1, statistic_sign=1)\n",
      "\n",
      "bill_length_mm\n",
      "Fail to reject the null hypothesis. Data may follow a normal distribution.\n",
      "Kolmogorov-Smirnov test result: KstestResult(statistic=0.12510215891210075, pvalue=5.309415498465743e-05, statistic_location=197.0, statistic_sign=1)\n",
      "\n",
      "flipper_length_mm\n",
      "Reject the null hypothesis. Data significantly deviates from a normal distribution.\n",
      "Kolmogorov-Smirnov test result: KstestResult(statistic=0.10589032496917367, pvalue=0.0010498840305136644, statistic_location=3950.0, statistic_sign=1)\n",
      "\n",
      "body_mass_g\n",
      "Reject the null hypothesis. Data significantly deviates from a normal distribution.\n"
     ]
    },
    {
     "data": {
      "text/plain": [
       "(0.0, 1.0, 0.0, 1.0)"
      ]
     },
     "execution_count": 12,
     "metadata": {},
     "output_type": "execute_result"
    }
   ],
   "source": [
    " ###################################################### CONTINUOUS VARIABLES\n",
    "\n",
    "\n",
    "# create the plot for all variables\n",
    "fig, axs = plt.subplots(2, 4, figsize=(20, 10)) \n",
    "\n",
    "plt.subplot(2, 4, 1)\n",
    "plt.xlabel('Value')\n",
    "plt.ylabel('Frequency')\n",
    "plt.title('Bill depth')\n",
    "conti_variable(data_clean[\"bill_depth_mm\"],'#32CD32')\n",
    "\n",
    "\n",
    "plt.subplot(2, 4, 2)\n",
    "plt.xlabel('Value')\n",
    "plt.ylabel('Frequency')\n",
    "plt.title('Bill Length')\n",
    "conti_variable(data_clean[\"bill_length_mm\"],'#4285f4')\n",
    "\n",
    "\n",
    "plt.subplot(2, 4, 3)\n",
    "plt.xlabel('Value')\n",
    "plt.ylabel('Frequency')\n",
    "plt.title('Flipper Length')\n",
    "conti_variable(data_clean[\"flipper_length_mm\"],'#0074d9')\n",
    "\n",
    "\n",
    "plt.subplot(2, 4, 4)\n",
    "plt.xlabel('Value')\n",
    "plt.ylabel('Frequency')\n",
    "plt.title('Body mass')\n",
    "conti_variable(data_clean[\"body_mass_g\"], '#FF7F50')\n",
    "\n",
    "\n",
    "###################################################### CATEGORICAL VARIABLES\n",
    "\n",
    "plt.subplot(2, 4, 5)\n",
    "plt.title('Count of Penguin Species')\n",
    "plt.xlabel('Species')\n",
    "plt.ylabel('Count')\n",
    "cate_variable(data_clean[\"species\"], 'lightgreen')\n",
    "\n",
    "\n",
    "\n",
    "plt.subplot(2, 4, 6)\n",
    "plt.title('Count of Penguin per Sex')\n",
    "plt.xlabel('Species')\n",
    "plt.ylabel('Count')\n",
    "cate_variable(data_clean[\"sex\"], 'skyblue')\n",
    "\n",
    "plt.subplot(2, 4, 7)\n",
    "plt.title('Count of Penguin per Island')\n",
    "plt.xlabel('Islands')\n",
    "plt.ylabel('Count')\n",
    "cate_variable(data_clean[\"island\"], 'darkorange')\n",
    "\n",
    "plt.subplot(2, 4, 8)\n",
    "plt.axis('off')\n",
    "\n"
   ]
  },
  {
   "cell_type": "code",
   "execution_count": null,
   "metadata": {},
   "outputs": [],
   "source": []
  },
  {
   "cell_type": "code",
   "execution_count": null,
   "metadata": {},
   "outputs": [],
   "source": []
  },
  {
   "cell_type": "code",
   "execution_count": null,
   "metadata": {},
   "outputs": [],
   "source": [
    "\n",
    "\n",
    ">"
   ]
  },
  {
   "cell_type": "code",
   "execution_count": null,
   "metadata": {},
   "outputs": [],
   "source": []
  },
  {
   "cell_type": "code",
   "execution_count": null,
   "metadata": {},
   "outputs": [],
   "source": []
  }
 ],
 "metadata": {
  "kernelspec": {
   "display_name": "base",
   "language": "python",
   "name": "python3"
  },
  "language_info": {
   "codemirror_mode": {
    "name": "ipython",
    "version": 3
   },
   "file_extension": ".py",
   "mimetype": "text/x-python",
   "name": "python",
   "nbconvert_exporter": "python",
   "pygments_lexer": "ipython3",
   "version": "3.10.9"
  }
 },
 "nbformat": 4,
 "nbformat_minor": 2
}
